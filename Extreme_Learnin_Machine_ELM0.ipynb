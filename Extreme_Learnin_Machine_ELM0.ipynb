{
  "nbformat": 4,
  "nbformat_minor": 0,
  "metadata": {
    "colab": {
      "provenance": [],
      "authorship_tag": "ABX9TyP7Vpko19hqxOfB/KjcmuEd",
      "include_colab_link": true
    },
    "kernelspec": {
      "name": "python3",
      "display_name": "Python 3"
    },
    "language_info": {
      "name": "python"
    }
  },
  "cells": [
    {
      "cell_type": "markdown",
      "metadata": {
        "id": "view-in-github",
        "colab_type": "text"
      },
      "source": [
        "<a href=\"https://colab.research.google.com/github/RonaldoSouzaEngComp/regressao/blob/main/Extreme_Learnin_Machine_ELM0.ipynb\" target=\"_parent\"><img src=\"https://colab.research.google.com/assets/colab-badge.svg\" alt=\"Open In Colab\"/></a>"
      ]
    },
    {
      "cell_type": "code",
      "execution_count": 5,
      "metadata": {
        "id": "nOPgX1N90lN_"
      },
      "outputs": [],
      "source": [
        "import numpy as np"
      ]
    },
    {
      "cell_type": "code",
      "source": [
        "entrada = np.array([[0,0],\n",
        "                    [0,1],\n",
        "                    [1,0],\n",
        "                    [1,1]])\n",
        "\n",
        "saida = np.array([[0],\n",
        "                  [1],\n",
        "                  [1],\n",
        "                  [1]])\n",
        "\n",
        "numero_linha, numero_coluna = entrada.shape\n",
        "print(\"Número de Linhas: \", numero_linha)\n",
        "print(\"Número de Coluna: \", numero_coluna)"
      ],
      "metadata": {
        "colab": {
          "base_uri": "https://localhost:8080/"
        },
        "id": "FuTpz8OY4r_L",
        "outputId": "747ab21a-dde9-4297-ea7f-81e1319ccac8"
      },
      "execution_count": 6,
      "outputs": [
        {
          "output_type": "stream",
          "name": "stdout",
          "text": [
            "Número de Linhas:  4\n",
            "Número de Coluna:  2\n"
          ]
        }
      ]
    },
    {
      "cell_type": "code",
      "source": [
        "numero_neuronios = 15\n",
        "\n",
        "camada_oculta  = np.random.randn(numero_neuronios, numero_coluna + 1)\n",
        "\n",
        "bias_vetor_one = np.ones((numero_linha, 1))\n",
        "\n",
        "entrada_bias = np.concatenate((entrada, bias_vetor_one), axis = 1)\n",
        "\n",
        "S = entrada_bias.dot(camada_oculta.transpose())\n",
        "\n",
        "H_funcao_ativacao = np.tanh(S)\n",
        "\n",
        "H_funcao_ativacao_bias = np.concatenate((H_funcao_ativacao, bias_vetor_one), axis = 1)\n",
        "\n",
        "pseudo_inversa = np.linalg.pinv(H_funcao_ativacao_bias)\n",
        "\n",
        "Vt = pseudo_inversa.dot(saida)\n",
        "\n",
        "resultado = H_funcao_ativacao_bias.dot(Vt)\n",
        "\n",
        "erro = saida - resultado\n",
        "\n",
        "eqm = (1/numero_coluna)*(erro.transpose()).dot(erro)"
      ],
      "metadata": {
        "id": "oYU_oAue2Q89"
      },
      "execution_count": 19,
      "outputs": []
    },
    {
      "cell_type": "code",
      "source": [
        "print(\"Reultado\")\n",
        "print(resultado)\n",
        "print(\"Erro\")\n",
        "print(erro)\n",
        "print()\n",
        "print(\"Erro quadratico\")\n",
        "print(eqm)"
      ],
      "metadata": {
        "colab": {
          "base_uri": "https://localhost:8080/"
        },
        "id": "uUWKkE907n66",
        "outputId": "72624b14-aa50-406a-b2f3-455c2ab73254"
      },
      "execution_count": 20,
      "outputs": [
        {
          "output_type": "stream",
          "name": "stdout",
          "text": [
            "Reultado\n",
            "[[1.11022302e-16]\n",
            " [1.00000000e+00]\n",
            " [1.00000000e+00]\n",
            " [1.00000000e+00]]\n",
            "Erro\n",
            "[[-1.11022302e-16]\n",
            " [-4.44089210e-16]\n",
            " [ 3.33066907e-16]\n",
            " [-6.66133815e-16]]\n",
            "\n",
            "Erro quadratico\n",
            "[[3.82104501e-31]]\n"
          ]
        }
      ]
    }
  ]
}