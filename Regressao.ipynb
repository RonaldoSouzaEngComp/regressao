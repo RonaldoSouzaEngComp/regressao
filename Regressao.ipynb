{
  "nbformat": 4,
  "nbformat_minor": 0,
  "metadata": {
    "colab": {
      "name": "Regressao.ipynb",
      "provenance": [],
      "authorship_tag": "ABX9TyNfMabf2qIYSV+X1zGXW0J0",
      "include_colab_link": true
    },
    "kernelspec": {
      "name": "python3",
      "display_name": "Python 3"
    },
    "language_info": {
      "name": "python"
    }
  },
  "cells": [
    {
      "cell_type": "markdown",
      "metadata": {
        "id": "view-in-github",
        "colab_type": "text"
      },
      "source": [
        "<a href=\"https://colab.research.google.com/github/RonaldoSouzaEngComp/regressao/blob/main/Regressao.ipynb\" target=\"_parent\"><img src=\"https://colab.research.google.com/assets/colab-badge.svg\" alt=\"Open In Colab\"/></a>"
      ]
    },
    {
      "cell_type": "code",
      "metadata": {
        "id": "tVdnM4xWrfvX"
      },
      "source": [
        "import numpy as np"
      ],
      "execution_count": 2,
      "outputs": []
    },
    {
      "cell_type": "code",
      "metadata": {
        "id": "QbIw8F1Rrz8w"
      },
      "source": [
        "entrada = np.array([[1],\n",
        "                    [1.5],\n",
        "                    [2],\n",
        "                    [2.5],\n",
        "                    [3],\n",
        "                    [3.5],\n",
        "                    [4]])\n",
        "\n",
        "saida_desejada = np.array([[2.5],\n",
        "                           [5],\n",
        "                           [8.5],\n",
        "                           [13],\n",
        "                           [18.5],\n",
        "                           [25],\n",
        "                           [29.32]])"
      ],
      "execution_count": 3,
      "outputs": []
    },
    {
      "cell_type": "markdown",
      "metadata": {
        "id": "Zqau2xRnuXd-"
      },
      "source": [
        "**numpy.size(dados, axis = (0 ou 1)):** função que conta o número de elementos ao longo de um determinado eixo. 0 eixo de linhas, 1 eixo da colunas.\n",
        "\n",
        "**numpy.ones((Número de Linhas, Número de Colunas)):** Cria uma array que os elementos são 1's\n",
        "\n",
        "**numpy.concatenate((), axis = (0 ou 1)):** Junta uma array a outra indicando o eixo.\n",
        "\n",
        "**numpy.linalg.pinv(dado):** Calcula o (Moore-Penrose) pseudo-inverso de uma Matriz. Calcula o inverso generalizado de uma matriz usando sua decomposição de valor sigular e incluindo todos os grandes valores singulares.\n",
        "\n",
        "**dot():** Retorna o produto escalar entre duas matrizes"
      ]
    },
    {
      "cell_type": "code",
      "metadata": {
        "colab": {
          "base_uri": "https://localhost:8080/"
        },
        "id": "24B2U9WGsZ76",
        "outputId": "30b822e2-d681-47d5-fd85-79c695df33e2"
      },
      "source": [
        "numero_linhas = np.size(entrada, 0)\n",
        "print(\"Número de LINHAS: \", numero_linhas)\n",
        "\n",
        "vetor_one = np.ones((numero_linhas, 1))\n",
        "print(\"Vetor de Uns\")\n",
        "print(vetor_one)\n",
        "\n",
        "entrada_vet_one = np.concatenate((entrada, vetor_one), axis = 1)\n",
        "print(\"Entrada concatenada: \")\n",
        "print(entrada_vet_one)\n",
        "\n",
        "pseudo_inversao = np.linalg.pinv(entrada_vet_one)\n",
        "print(\"Pseudo Inversão: \")\n",
        "print(pseudo_inversao)\n",
        "\n",
        "teta = pseudo_inversao.dot(saida_desejada)\n",
        "print(\"Teta: \")\n",
        "print(teta)"
      ],
      "execution_count": 4,
      "outputs": [
        {
          "output_type": "stream",
          "name": "stdout",
          "text": [
            "Número de LINHAS:  7\n",
            "Vetor de Uns\n",
            "[[1.]\n",
            " [1.]\n",
            " [1.]\n",
            " [1.]\n",
            " [1.]\n",
            " [1.]\n",
            " [1.]]\n",
            "Entrada concatenada: \n",
            "[[1.  1. ]\n",
            " [1.5 1. ]\n",
            " [2.  1. ]\n",
            " [2.5 1. ]\n",
            " [3.  1. ]\n",
            " [3.5 1. ]\n",
            " [4.  1. ]]\n",
            "Pseudo Inversão: \n",
            "[[-2.14285714e-01 -1.42857143e-01 -7.14285714e-02 -2.33187527e-17\n",
            "   7.14285714e-02  1.42857143e-01  2.14285714e-01]\n",
            " [ 6.78571429e-01  5.00000000e-01  3.21428571e-01  1.42857143e-01\n",
            "  -3.57142857e-02 -2.14285714e-01 -3.92857143e-01]]\n",
            "Teta: \n",
            "[[ 9.31857143]\n",
            " [-8.75071429]]\n"
          ]
        }
      ]
    },
    {
      "cell_type": "code",
      "metadata": {
        "colab": {
          "base_uri": "https://localhost:8080/"
        },
        "id": "afI3chEQBWqE",
        "outputId": "c8eadc43-1839-489e-ac4f-3af8b78fd435"
      },
      "source": [
        "saida_1 = teta[0]*entrada[2] + teta[1]\n",
        "print(\"Saida 1: \", saida_1)\n",
        "\n",
        "erro_1 = saida_desejada[2] - saida_1\n",
        "print(\"Erro 1: \", erro_1)\n",
        "\n",
        "saida_2 = teta[0]*5 + teta[1]\n",
        "print(\"Saida 2: \", saida_2)\n",
        "\n",
        "saida_final = entrada_vet_one.dot(teta)\n",
        "print(\"Saida Final: \", saida_final)"
      ],
      "execution_count": 5,
      "outputs": [
        {
          "output_type": "stream",
          "name": "stdout",
          "text": [
            "Saida 1:  [9.88642857]\n",
            "Erro 1:  [-1.38642857]\n",
            "Saida 2:  [37.84214286]\n",
            "Saida Final:  [[ 0.56785714]\n",
            " [ 5.22714286]\n",
            " [ 9.88642857]\n",
            " [14.54571429]\n",
            " [19.205     ]\n",
            " [23.86428571]\n",
            " [28.52357143]]\n"
          ]
        }
      ]
    },
    {
      "cell_type": "code",
      "metadata": {
        "colab": {
          "base_uri": "https://localhost:8080/",
          "height": 295
        },
        "id": "3MVU_9twCZTY",
        "outputId": "0e6cb2fb-1981-4720-899b-c030f7164b95"
      },
      "source": [
        "import matplotlib.pyplot as plt\n",
        "\n",
        "plt.plot(entrada, saida_final,    c = 'red',   ls = '--', marker = 'v', ms = '4', label = 'Desejado')\n",
        "plt.plot(entrada, saida_desejada, c = 'green', ls = '--', marker = 'o', ms = '4', label = 'Predição')\n",
        "plt.grid(True)\n",
        "plt.title(\"Valor Observado (.) e Predição (d)\")\n",
        "plt.legend(loc = 'upper left')\n",
        "plt.ylabel('Valor de Y (Saída)')\n",
        "plt.xlabel('Entrada X')\n",
        "plt.show()"
      ],
      "execution_count": 10,
      "outputs": [
        {
          "output_type": "display_data",
          "data": {
            "text/plain": [
              "<Figure size 432x288 with 1 Axes>"
            ],
            "image/png": "[encoded data removed]"
          },
          "metadata": {
            "needs_background": "light"
          }
        }
      ]
    }
  ]
}